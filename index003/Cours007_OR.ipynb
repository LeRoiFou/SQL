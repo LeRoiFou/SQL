{
 "cells": [
  {
   "cell_type": "code",
   "execution_count": 1,
   "metadata": {},
   "outputs": [],
   "source": [
    "import duckdb"
   ]
  },
  {
   "cell_type": "code",
   "execution_count": 2,
   "metadata": {},
   "outputs": [],
   "source": [
    "# Connection à la base de données\n",
    "conn = duckdb.connect('data.db')"
   ]
  },
  {
   "cell_type": "code",
   "execution_count": 7,
   "metadata": {},
   "outputs": [
    {
     "data": {
      "text/html": [
       "<div><style>\n",
       ".dataframe > thead > tr > th,\n",
       ".dataframe > tbody > tr > td {\n",
       "  text-align: right;\n",
       "}\n",
       "</style>\n",
       "<small>shape: (370, 3)</small><table border=\"1\" class=\"dataframe\"><thead><tr><th>LastName</th><th>FirstName</th><th>NativeState</th></tr><tr><td>str</td><td>str</td><td>str</td></tr></thead><tbody><tr><td>&quot;Young&quot;</td><td>&quot;Christopher An…</td><td>&quot;Texas&quot;</td></tr><tr><td>&quot;Bible&quot;</td><td>&quot;Danny Paul&quot;</td><td>&quot;Texas&quot;</td></tr><tr><td>&quot;Castillo&quot;</td><td>&quot;Juan Edward&quot;</td><td>&quot;Texas&quot;</td></tr><tr><td>&quot;Davila&quot;</td><td>&quot;Erick Daniel&quot;</td><td>&quot;Texas&quot;</td></tr><tr><td>&quot;Rodriguez III&quot;</td><td>&quot;Rosendo&quot;</td><td>&quot;Texas&quot;</td></tr><tr><td>&quot;Battaglia&quot;</td><td>&quot;John David&quot;</td><td>&quot;Texas&quot;</td></tr><tr><td>&quot;Rayford&quot;</td><td>&quot;William Earl&quot;</td><td>&quot;Texas&quot;</td></tr><tr><td>&quot;Pruett&quot;</td><td>&quot;Robert Lynn&quot;</td><td>&quot;Texas&quot;</td></tr><tr><td>&quot;Preyor&quot;</td><td>&quot;Taichin&quot;</td><td>&quot;Texas&quot;</td></tr><tr><td>&quot;Bigby&quot;</td><td>&quot;James Eugene&quot;</td><td>&quot;Texas&quot;</td></tr><tr><td>&quot;Ruiz&quot;</td><td>&quot;Rolando&quot;</td><td>&quot;Texas&quot;</td></tr><tr><td>&quot;Edwards&quot;</td><td>&quot;Terry&quot;</td><td>&quot;Texas&quot;</td></tr><tr><td>&hellip;</td><td>&hellip;</td><td>&hellip;</td></tr><tr><td>&quot;Ogan&quot;</td><td>&quot;Craig&quot;</td><td>&quot;Missouri&quot;</td></tr><tr><td>&quot;Medina&quot;</td><td>&quot;Javier&quot;</td><td>&quot;Mexico&quot;</td></tr><tr><td>&quot;Arnold&quot;</td><td>&quot;Jermarr&quot;</td><td>&quot;Missouri&quot;</td></tr><tr><td>&quot;Flores&quot;</td><td>&quot;Miguel&quot;</td><td>&quot;Mexico&quot;</td></tr><tr><td>&quot;White&quot;</td><td>&quot;Excell&quot;</td><td>&quot;Mississippi&quot;</td></tr><tr><td>&quot;Emery&quot;</td><td>&quot;Jeff&quot;</td><td>&quot;Minnesota&quot;</td></tr><tr><td>&quot;McFarland&quot;</td><td>&quot;Frank&quot;</td><td>&quot;Maryland&quot;</td></tr><tr><td>&quot;Montoya&quot;</td><td>&quot;Irineo&quot;</td><td>&quot;Mexico&quot;</td></tr><tr><td>&quot;Sawyers&quot;</td><td>&quot;John&quot;</td><td>&quot;Michigan&quot;</td></tr><tr><td>&quot;Montoya&quot;</td><td>&quot;Ramon&quot;</td><td>&quot;Mexico&quot;</td></tr><tr><td>&quot;May&quot;</td><td>&quot;Justin&quot;</td><td>&quot;Mississippi&quot;</td></tr><tr><td>&quot;Cuevas&quot;</td><td>&quot;Ignacio&quot;</td><td>&quot;Mexico&quot;</td></tr></tbody></table></div>"
      ],
      "text/plain": [
       "shape: (370, 3)\n",
       "┌──────────┬─────────────────────┬─────────────┐\n",
       "│ LastName ┆ FirstName           ┆ NativeState │\n",
       "│ ---      ┆ ---                 ┆ ---         │\n",
       "│ str      ┆ str                 ┆ str         │\n",
       "╞══════════╪═════════════════════╪═════════════╡\n",
       "│ Young    ┆ Christopher Anthony ┆ Texas       │\n",
       "│ Bible    ┆ Danny Paul          ┆ Texas       │\n",
       "│ Castillo ┆ Juan Edward         ┆ Texas       │\n",
       "│ Davila   ┆ Erick Daniel        ┆ Texas       │\n",
       "│ …        ┆ …                   ┆ …           │\n",
       "│ Sawyers  ┆ John                ┆ Michigan    │\n",
       "│ Montoya  ┆ Ramon               ┆ Mexico      │\n",
       "│ May      ┆ Justin              ┆ Mississippi │\n",
       "│ Cuevas   ┆ Ignacio             ┆ Mexico      │\n",
       "└──────────┴─────────────────────┴─────────────┘"
      ]
     },
     "execution_count": 7,
     "metadata": {},
     "output_type": "execute_result"
    }
   ],
   "source": [
    "# Requêtage SQL converti en DF polars :\n",
    "# Filtrer les prisonniers selon qu'ils sont nés dans l'État commençant par\n",
    "# 'T' ou par 'M'\n",
    "conn.execute(\"\"\"\n",
    "SELECT LastName, FirstName, NativeState FROM executions\n",
    "    WHERE NativeState LIKE 'T%' OR NativeState LIKE 'M%';\n",
    "             \"\"\").pl()"
   ]
  }
 ],
 "metadata": {
  "kernelspec": {
   "display_name": "Python 3",
   "language": "python",
   "name": "python3"
  },
  "language_info": {
   "codemirror_mode": {
    "name": "ipython",
    "version": 3
   },
   "file_extension": ".py",
   "mimetype": "text/x-python",
   "name": "python",
   "nbconvert_exporter": "python",
   "pygments_lexer": "ipython3",
   "version": "3.9.2"
  }
 },
 "nbformat": 4,
 "nbformat_minor": 2
}
