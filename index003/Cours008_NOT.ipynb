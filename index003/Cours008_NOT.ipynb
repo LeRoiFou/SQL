{
 "cells": [
  {
   "cell_type": "code",
   "execution_count": 8,
   "metadata": {},
   "outputs": [],
   "source": [
    "import duckdb"
   ]
  },
  {
   "cell_type": "code",
   "execution_count": 9,
   "metadata": {},
   "outputs": [],
   "source": [
    "# Connection à la BD\n",
    "conn = duckdb.connect('data.db')"
   ]
  },
  {
   "cell_type": "code",
   "execution_count": 10,
   "metadata": {},
   "outputs": [
    {
     "data": {
      "text/html": [
       "<div><style>\n",
       ".dataframe > thead > tr > th,\n",
       ".dataframe > tbody > tr > td {\n",
       "  text-align: right;\n",
       "}\n",
       "</style>\n",
       "<small>shape: (494, 3)</small><table border=\"1\" class=\"dataframe\"><thead><tr><th>FirstName</th><th>LastName</th><th>County</th></tr><tr><td>str</td><td>str</td><td>str</td></tr></thead><tbody><tr><td>&quot;Christopher An…</td><td>&quot;Young&quot;</td><td>&quot;Bexar&quot;</td></tr><tr><td>&quot;Danny Paul&quot;</td><td>&quot;Bible&quot;</td><td>&quot;Harris&quot;</td></tr><tr><td>&quot;Juan Edward&quot;</td><td>&quot;Castillo&quot;</td><td>&quot;Bexar&quot;</td></tr><tr><td>&quot;Erick Daniel&quot;</td><td>&quot;Davila&quot;</td><td>&quot;Tarrant&quot;</td></tr><tr><td>&quot;Rosendo&quot;</td><td>&quot;Rodriguez III&quot;</td><td>&quot;Lubbock&quot;</td></tr><tr><td>&quot;Anthony&quot;</td><td>&quot;Shore&quot;</td><td>&quot;Harris&quot;</td></tr><tr><td>&quot;Robert Lynn&quot;</td><td>&quot;Pruett&quot;</td><td>&quot;Bee&quot;</td></tr><tr><td>&quot;Taichin&quot;</td><td>&quot;Preyor&quot;</td><td>&quot;Bexar&quot;</td></tr><tr><td>&quot;James Eugene&quot;</td><td>&quot;Bigby&quot;</td><td>&quot;Tarrant&quot;</td></tr><tr><td>&quot;Rolando&quot;</td><td>&quot;Ruiz&quot;</td><td>&quot;Bexar&quot;</td></tr><tr><td>&quot;Christopher&quot;</td><td>&quot;Wilkins&quot;</td><td>&quot;Tarrant&quot;</td></tr><tr><td>&quot;Barney&quot;</td><td>&quot;Fuller&quot;</td><td>&quot;Houston&quot;</td></tr><tr><td>&hellip;</td><td>&hellip;</td><td>&hellip;</td></tr><tr><td>&quot;Jeffery&quot;</td><td>&quot;Barney&quot;</td><td>&quot;Harris&quot;</td></tr><tr><td>&quot;Charles&quot;</td><td>&quot;Bass&quot;</td><td>&quot;Harris&quot;</td></tr><tr><td>&quot;Charles&quot;</td><td>&quot;Rumbaugh&quot;</td><td>&quot;Potter&quot;</td></tr><tr><td>&quot;Henry&quot;</td><td>&quot;Porter&quot;</td><td>&quot;Tarrant&quot;</td></tr><tr><td>&quot;Charles&quot;</td><td>&quot;Milton&quot;</td><td>&quot;Tarrant&quot;</td></tr><tr><td>&quot;Jesse&quot;</td><td>&quot;De La Rosa&quot;</td><td>&quot;Bexar&quot;</td></tr><tr><td>&quot;Stephen&quot;</td><td>&quot;Morin&quot;</td><td>&quot;Jefferson&quot;</td></tr><tr><td>&quot;Doyle&quot;</td><td>&quot;Skillern&quot;</td><td>&quot;Lubbock&quot;</td></tr><tr><td>&quot;Thomas&quot;</td><td>&quot;Barefoot&quot;</td><td>&quot;Bell&quot;</td></tr><tr><td>&quot;Ronald&quot;</td><td>&quot;O&#x27;Bryan&quot;</td><td>&quot;Harris&quot;</td></tr><tr><td>&quot;James&quot;</td><td>&quot;Autry&quot;</td><td>&quot;Jefferson&quot;</td></tr><tr><td>&quot;Charlie&quot;</td><td>&quot;Brooks, Jr.&quot;</td><td>&quot;Tarrant&quot;</td></tr></tbody></table></div>"
      ],
      "text/plain": [
       "shape: (494, 3)\n",
       "┌─────────────────────┬─────────────┬───────────┐\n",
       "│ FirstName           ┆ LastName    ┆ County    │\n",
       "│ ---                 ┆ ---         ┆ ---       │\n",
       "│ str                 ┆ str         ┆ str       │\n",
       "╞═════════════════════╪═════════════╪═══════════╡\n",
       "│ Christopher Anthony ┆ Young       ┆ Bexar     │\n",
       "│ Danny Paul          ┆ Bible       ┆ Harris    │\n",
       "│ Juan Edward         ┆ Castillo    ┆ Bexar     │\n",
       "│ Erick Daniel        ┆ Davila      ┆ Tarrant   │\n",
       "│ …                   ┆ …           ┆ …         │\n",
       "│ Thomas              ┆ Barefoot    ┆ Bell      │\n",
       "│ Ronald              ┆ O'Bryan     ┆ Harris    │\n",
       "│ James               ┆ Autry       ┆ Jefferson │\n",
       "│ Charlie             ┆ Brooks, Jr. ┆ Tarrant   │\n",
       "└─────────────────────┴─────────────┴───────────┘"
      ]
     },
     "execution_count": 10,
     "metadata": {},
     "output_type": "execute_result"
    }
   ],
   "source": [
    "# Requêtage SQL converti en DF polars :\n",
    "# Filtre sur les condamnés n'ayant pas résidé à Dallas\n",
    "conn.execute(\"\"\"\n",
    "SELECT FirstName, LastName, County FROM executions\n",
    "    WHERE NOT County = 'Dallas';\n",
    "             \"\"\").pl()"
   ]
  },
  {
   "cell_type": "code",
   "execution_count": 12,
   "metadata": {},
   "outputs": [
    {
     "data": {
      "text/html": [
       "<div><style>\n",
       ".dataframe > thead > tr > th,\n",
       ".dataframe > tbody > tr > td {\n",
       "  text-align: right;\n",
       "}\n",
       "</style>\n",
       "<small>shape: (532, 2)</small><table border=\"1\" class=\"dataframe\"><thead><tr><th>LastName</th><th>FirstName</th></tr><tr><td>str</td><td>str</td></tr></thead><tbody><tr><td>&quot;Young&quot;</td><td>&quot;Christopher An…</td></tr><tr><td>&quot;Bible&quot;</td><td>&quot;Danny Paul&quot;</td></tr><tr><td>&quot;Castillo&quot;</td><td>&quot;Juan Edward&quot;</td></tr><tr><td>&quot;Davila&quot;</td><td>&quot;Erick Daniel&quot;</td></tr><tr><td>&quot;Rodriguez III&quot;</td><td>&quot;Rosendo&quot;</td></tr><tr><td>&quot;Battaglia&quot;</td><td>&quot;John David&quot;</td></tr><tr><td>&quot;Rayford&quot;</td><td>&quot;William Earl&quot;</td></tr><tr><td>&quot;Shore&quot;</td><td>&quot;Anthony&quot;</td></tr><tr><td>&quot;Pruett&quot;</td><td>&quot;Robert Lynn&quot;</td></tr><tr><td>&quot;Preyor&quot;</td><td>&quot;Taichin&quot;</td></tr><tr><td>&quot;Bigby&quot;</td><td>&quot;James Eugene&quot;</td></tr><tr><td>&quot;Ruiz&quot;</td><td>&quot;Rolando&quot;</td></tr><tr><td>&hellip;</td><td>&hellip;</td></tr><tr><td>&quot;Pinkerton&quot;</td><td>&quot;Jay&quot;</td></tr><tr><td>&quot;Barney&quot;</td><td>&quot;Jeffery&quot;</td></tr><tr><td>&quot;Bass&quot;</td><td>&quot;Charles&quot;</td></tr><tr><td>&quot;Rumbaugh&quot;</td><td>&quot;Charles&quot;</td></tr><tr><td>&quot;Porter&quot;</td><td>&quot;Henry&quot;</td></tr><tr><td>&quot;Milton&quot;</td><td>&quot;Charles&quot;</td></tr><tr><td>&quot;De La Rosa&quot;</td><td>&quot;Jesse&quot;</td></tr><tr><td>&quot;Morin&quot;</td><td>&quot;Stephen&quot;</td></tr><tr><td>&quot;Skillern&quot;</td><td>&quot;Doyle&quot;</td></tr><tr><td>&quot;Barefoot&quot;</td><td>&quot;Thomas&quot;</td></tr><tr><td>&quot;O&#x27;Bryan&quot;</td><td>&quot;Ronald&quot;</td></tr><tr><td>&quot;Brooks, Jr.&quot;</td><td>&quot;Charlie&quot;</td></tr></tbody></table></div>"
      ],
      "text/plain": [
       "shape: (532, 2)\n",
       "┌─────────────┬─────────────────────┐\n",
       "│ LastName    ┆ FirstName           │\n",
       "│ ---         ┆ ---                 │\n",
       "│ str         ┆ str                 │\n",
       "╞═════════════╪═════════════════════╡\n",
       "│ Young       ┆ Christopher Anthony │\n",
       "│ Bible       ┆ Danny Paul          │\n",
       "│ Castillo    ┆ Juan Edward         │\n",
       "│ Davila      ┆ Erick Daniel        │\n",
       "│ …           ┆ …                   │\n",
       "│ Skillern    ┆ Doyle               │\n",
       "│ Barefoot    ┆ Thomas              │\n",
       "│ O'Bryan     ┆ Ronald              │\n",
       "│ Brooks, Jr. ┆ Charlie             │\n",
       "└─────────────┴─────────────────────┘"
      ]
     },
     "execution_count": 12,
     "metadata": {},
     "output_type": "execute_result"
    }
   ],
   "source": [
    "# Requêtage SQL converti en DF polars :\n",
    "# Liste des condamnés excepté ceux commençant par le nom avec la lettre A\n",
    "conn.execute(\"\"\"\n",
    "    SELECT LastName, FirstName FROM executions\n",
    "    WHERE LastName NOT LIKE 'A%'; \n",
    "            \"\"\").pl()"
   ]
  },
  {
   "cell_type": "code",
   "execution_count": 13,
   "metadata": {},
   "outputs": [
    {
     "data": {
      "text/html": [
       "<div><style>\n",
       ".dataframe > thead > tr > th,\n",
       ".dataframe > tbody > tr > td {\n",
       "  text-align: right;\n",
       "}\n",
       "</style>\n",
       "<small>shape: (125, 3)</small><table border=\"1\" class=\"dataframe\"><thead><tr><th>LastName</th><th>FirstName</th><th>AgeatExecution</th></tr><tr><td>str</td><td>str</td><td>i64</td></tr></thead><tbody><tr><td>&quot;Bible&quot;</td><td>&quot;Danny Paul&quot;</td><td>66</td></tr><tr><td>&quot;Battaglia&quot;</td><td>&quot;John David&quot;</td><td>62</td></tr><tr><td>&quot;Rayford&quot;</td><td>&quot;William Earl&quot;</td><td>64</td></tr><tr><td>&quot;Shore&quot;</td><td>&quot;Anthony&quot;</td><td>55</td></tr><tr><td>&quot;Bigby&quot;</td><td>&quot;James Eugene&quot;</td><td>61</td></tr><tr><td>&quot;Fuller&quot;</td><td>&quot;Barney&quot;</td><td>58</td></tr><tr><td>&quot;Wesbrook&quot;</td><td>&quot;Coy&quot;</td><td>58</td></tr><tr><td>&quot;Lopez&quot;</td><td>&quot;Daniel&quot;</td><td>27</td></tr><tr><td>&quot;Bower&quot;</td><td>&quot;Lester&quot;</td><td>67</td></tr><tr><td>&quot;Newbury&quot;</td><td>&quot;Donald&quot;</td><td>53</td></tr><tr><td>&quot;Ladd&quot;</td><td>&quot;Robert&quot;</td><td>57</td></tr><tr><td>&quot;Doyle&quot;</td><td>&quot;Anthony&quot;</td><td>29</td></tr><tr><td>&hellip;</td><td>&hellip;</td><td>&hellip;</td></tr><tr><td>&quot;Cuevas&quot;</td><td>&quot;Ignacio&quot;</td><td>59</td></tr><tr><td>&quot;Butler&quot;</td><td>&quot;Jerome&quot;</td><td>54</td></tr><tr><td>&quot;De Luna&quot;</td><td>&quot;Carlos&quot;</td><td>27</td></tr><tr><td>&quot;Streetman&quot;</td><td>&quot;Robert&quot;</td><td>27</td></tr><tr><td>&quot;Williams&quot;</td><td>&quot;Anthony&quot;</td><td>27</td></tr><tr><td>&quot;Moreno&quot;</td><td>&quot;Eliseo&quot;</td><td>27</td></tr><tr><td>&quot;Andrade&quot;</td><td>&quot;Richard&quot;</td><td>25</td></tr><tr><td>&quot;Pinkerton&quot;</td><td>&quot;Jay&quot;</td><td>24</td></tr><tr><td>&quot;Barney&quot;</td><td>&quot;Jeffery&quot;</td><td>28</td></tr><tr><td>&quot;Rumbaugh&quot;</td><td>&quot;Charles&quot;</td><td>28</td></tr><tr><td>&quot;De La Rosa&quot;</td><td>&quot;Jesse&quot;</td><td>24</td></tr><tr><td>&quot;Autry&quot;</td><td>&quot;James&quot;</td><td>29</td></tr></tbody></table></div>"
      ],
      "text/plain": [
       "shape: (125, 3)\n",
       "┌────────────┬──────────────┬────────────────┐\n",
       "│ LastName   ┆ FirstName    ┆ AgeatExecution │\n",
       "│ ---        ┆ ---          ┆ ---            │\n",
       "│ str        ┆ str          ┆ i64            │\n",
       "╞════════════╪══════════════╪════════════════╡\n",
       "│ Bible      ┆ Danny Paul   ┆ 66             │\n",
       "│ Battaglia  ┆ John David   ┆ 62             │\n",
       "│ Rayford    ┆ William Earl ┆ 64             │\n",
       "│ Shore      ┆ Anthony      ┆ 55             │\n",
       "│ …          ┆ …            ┆ …              │\n",
       "│ Barney     ┆ Jeffery      ┆ 28             │\n",
       "│ Rumbaugh   ┆ Charles      ┆ 28             │\n",
       "│ De La Rosa ┆ Jesse        ┆ 24             │\n",
       "│ Autry      ┆ James        ┆ 29             │\n",
       "└────────────┴──────────────┴────────────────┘"
      ]
     },
     "execution_count": 13,
     "metadata": {},
     "output_type": "execute_result"
    }
   ],
   "source": [
    "# Requêtage SQL converti en DF polars :\n",
    "# Condamnés n'ayant pas un âge compris entre 30 et 50 ans lors de leurs\n",
    "conn.execute(\"\"\"\n",
    "    SELECT LastName, FirstName , AgeatExecution FROM executions\n",
    "    WHERE AgeatExecution NOT BETWEEN 30 AND 50;          \n",
    "            \"\"\").pl()"
   ]
  },
  {
   "cell_type": "code",
   "execution_count": 19,
   "metadata": {},
   "outputs": [
    {
     "data": {
      "text/html": [
       "<div><style>\n",
       ".dataframe > thead > tr > th,\n",
       ".dataframe > tbody > tr > td {\n",
       "  text-align: right;\n",
       "}\n",
       "</style>\n",
       "<small>shape: (247, 3)</small><table border=\"1\" class=\"dataframe\"><thead><tr><th>LastName</th><th>FirstName</th><th>Race</th></tr><tr><td>str</td><td>str</td><td>str</td></tr></thead><tbody><tr><td>&quot;Bible&quot;</td><td>&quot;Danny Paul&quot;</td><td>&quot;White&quot;</td></tr><tr><td>&quot;Battaglia&quot;</td><td>&quot;John David&quot;</td><td>&quot;White&quot;</td></tr><tr><td>&quot;Shore&quot;</td><td>&quot;Anthony&quot;</td><td>&quot;White&quot;</td></tr><tr><td>&quot;Pruett&quot;</td><td>&quot;Robert Lynn&quot;</td><td>&quot;White&quot;</td></tr><tr><td>&quot;Bigby&quot;</td><td>&quot;James Eugene&quot;</td><td>&quot;White&quot;</td></tr><tr><td>&quot;Wilkins&quot;</td><td>&quot;Christopher&quot;</td><td>&quot;White&quot;</td></tr><tr><td>&quot;Fuller&quot;</td><td>&quot;Barney&quot;</td><td>&quot;White&quot;</td></tr><tr><td>&quot;Ward&quot;</td><td>&quot;Adam&quot;</td><td>&quot;White&quot;</td></tr><tr><td>&quot;Wesbrook&quot;</td><td>&quot;Coy&quot;</td><td>&quot;White&quot;</td></tr><tr><td>&quot;Freeman&quot;</td><td>&quot;James&quot;</td><td>&quot;White&quot;</td></tr><tr><td>&quot;Masterson&quot;</td><td>&quot;Richard&quot;</td><td>&quot;White&quot;</td></tr><tr><td>&quot;Bower&quot;</td><td>&quot;Lester&quot;</td><td>&quot;White&quot;</td></tr><tr><td>&hellip;</td><td>&hellip;</td><td>&hellip;</td></tr><tr><td>&quot;Wicker&quot;</td><td>&quot;Chester&quot;</td><td>&quot;White&quot;</td></tr><tr><td>&quot;Woolls&quot;</td><td>&quot;Randy&quot;</td><td>&quot;White&quot;</td></tr><tr><td>&quot;Brock&quot;</td><td>&quot;Kenneth&quot;</td><td>&quot;White&quot;</td></tr><tr><td>&quot;Pinkerton&quot;</td><td>&quot;Jay&quot;</td><td>&quot;White&quot;</td></tr><tr><td>&quot;Barney&quot;</td><td>&quot;Jeffery&quot;</td><td>&quot;White&quot;</td></tr><tr><td>&quot;Bass&quot;</td><td>&quot;Charles&quot;</td><td>&quot;White&quot;</td></tr><tr><td>&quot;Rumbaugh&quot;</td><td>&quot;Charles&quot;</td><td>&quot;White&quot;</td></tr><tr><td>&quot;Morin&quot;</td><td>&quot;Stephen&quot;</td><td>&quot;White&quot;</td></tr><tr><td>&quot;Skillern&quot;</td><td>&quot;Doyle&quot;</td><td>&quot;White&quot;</td></tr><tr><td>&quot;Barefoot&quot;</td><td>&quot;Thomas&quot;</td><td>&quot;White&quot;</td></tr><tr><td>&quot;O&#x27;Bryan&quot;</td><td>&quot;Ronald&quot;</td><td>&quot;White&quot;</td></tr><tr><td>&quot;Autry&quot;</td><td>&quot;James&quot;</td><td>&quot;White&quot;</td></tr></tbody></table></div>"
      ],
      "text/plain": [
       "shape: (247, 3)\n",
       "┌───────────┬─────────────┬───────┐\n",
       "│ LastName  ┆ FirstName   ┆ Race  │\n",
       "│ ---       ┆ ---         ┆ ---   │\n",
       "│ str       ┆ str         ┆ str   │\n",
       "╞═══════════╪═════════════╪═══════╡\n",
       "│ Bible     ┆ Danny Paul  ┆ White │\n",
       "│ Battaglia ┆ John David  ┆ White │\n",
       "│ Shore     ┆ Anthony     ┆ White │\n",
       "│ Pruett    ┆ Robert Lynn ┆ White │\n",
       "│ …         ┆ …           ┆ …     │\n",
       "│ Skillern  ┆ Doyle       ┆ White │\n",
       "│ Barefoot  ┆ Thomas      ┆ White │\n",
       "│ O'Bryan   ┆ Ronald      ┆ White │\n",
       "│ Autry     ┆ James       ┆ White │\n",
       "└───────────┴─────────────┴───────┘"
      ]
     },
     "execution_count": 19,
     "metadata": {},
     "output_type": "execute_result"
    }
   ],
   "source": [
    "# Requêtage SQL converti en DF polars :\n",
    "# Condamnés qui ne sont ni 'Black' ni 'Hispanic'\n",
    "conn.execute(\"\"\"\n",
    "   SELECT LastName, FirstName, Race FROM executions\n",
    "   WHERE Race NOT IN ('Black', 'Hispanic');         \n",
    "            \"\"\").pl()"
   ]
  },
  {
   "cell_type": "code",
   "execution_count": 20,
   "metadata": {},
   "outputs": [
    {
     "data": {
      "text/html": [
       "<div><style>\n",
       ".dataframe > thead > tr > th,\n",
       ".dataframe > tbody > tr > td {\n",
       "  text-align: right;\n",
       "}\n",
       "</style>\n",
       "<small>shape: (57, 3)</small><table border=\"1\" class=\"dataframe\"><thead><tr><th>LastName</th><th>FirstName</th><th>AgeatExecution</th></tr><tr><td>str</td><td>str</td><td>i64</td></tr></thead><tbody><tr><td>&quot;Lopez&quot;</td><td>&quot;Daniel&quot;</td><td>27</td></tr><tr><td>&quot;Doyle&quot;</td><td>&quot;Anthony&quot;</td><td>29</td></tr><tr><td>&quot;Cobb&quot;</td><td>&quot;Richard&quot;</td><td>29</td></tr><tr><td>&quot;Adams&quot;</td><td>&quot;Beunka&quot;</td><td>29</td></tr><tr><td>&quot;Perry&quot;</td><td>&quot;Michael&quot;</td><td>28</td></tr><tr><td>&quot;Blanton&quot;</td><td>&quot;Reginald&quot;</td><td>28</td></tr><tr><td>&quot;Johnson&quot;</td><td>&quot;Derrick&quot;</td><td>28</td></tr><tr><td>&quot;Ries&quot;</td><td>&quot;Joseph&quot;</td><td>29</td></tr><tr><td>&quot;Watts&quot;</td><td>&quot;Kevin&quot;</td><td>27</td></tr><tr><td>&quot;Chi&quot;</td><td>&quot;Heliberto&quot;</td><td>29</td></tr><tr><td>&quot;Turner&quot;</td><td>&quot;Carlton&quot;</td><td>29</td></tr><tr><td>&quot;Parr&quot;</td><td>&quot;Kenneth&quot;</td><td>27</td></tr><tr><td>&hellip;</td><td>&hellip;</td><td>&hellip;</td></tr><tr><td>&quot;Romero, Jr.&quot;</td><td>&quot;Jesus&quot;</td><td>27</td></tr><tr><td>&quot;Garrett&quot;</td><td>&quot;Johnny&quot;</td><td>28</td></tr><tr><td>&quot;De Luna&quot;</td><td>&quot;Carlos&quot;</td><td>27</td></tr><tr><td>&quot;Streetman&quot;</td><td>&quot;Robert&quot;</td><td>27</td></tr><tr><td>&quot;Williams&quot;</td><td>&quot;Anthony&quot;</td><td>27</td></tr><tr><td>&quot;Moreno&quot;</td><td>&quot;Eliseo&quot;</td><td>27</td></tr><tr><td>&quot;Andrade&quot;</td><td>&quot;Richard&quot;</td><td>25</td></tr><tr><td>&quot;Pinkerton&quot;</td><td>&quot;Jay&quot;</td><td>24</td></tr><tr><td>&quot;Barney&quot;</td><td>&quot;Jeffery&quot;</td><td>28</td></tr><tr><td>&quot;Rumbaugh&quot;</td><td>&quot;Charles&quot;</td><td>28</td></tr><tr><td>&quot;De La Rosa&quot;</td><td>&quot;Jesse&quot;</td><td>24</td></tr><tr><td>&quot;Autry&quot;</td><td>&quot;James&quot;</td><td>29</td></tr></tbody></table></div>"
      ],
      "text/plain": [
       "shape: (57, 3)\n",
       "┌────────────┬───────────┬────────────────┐\n",
       "│ LastName   ┆ FirstName ┆ AgeatExecution │\n",
       "│ ---        ┆ ---       ┆ ---            │\n",
       "│ str        ┆ str       ┆ i64            │\n",
       "╞════════════╪═══════════╪════════════════╡\n",
       "│ Lopez      ┆ Daniel    ┆ 27             │\n",
       "│ Doyle      ┆ Anthony   ┆ 29             │\n",
       "│ Cobb       ┆ Richard   ┆ 29             │\n",
       "│ Adams      ┆ Beunka    ┆ 29             │\n",
       "│ …          ┆ …         ┆ …              │\n",
       "│ Barney     ┆ Jeffery   ┆ 28             │\n",
       "│ Rumbaugh   ┆ Charles   ┆ 28             │\n",
       "│ De La Rosa ┆ Jesse     ┆ 24             │\n",
       "│ Autry      ┆ James     ┆ 29             │\n",
       "└────────────┴───────────┴────────────────┘"
      ]
     },
     "execution_count": 20,
     "metadata": {},
     "output_type": "execute_result"
    }
   ],
   "source": [
    "# Requêtage SQL converti en DF polars :\n",
    "# Condamnés n'ayant pas plus de 29 ans lors de leurs exécutions\n",
    "conn.execute(\"\"\"\n",
    "    SELECT LastName, FirstName, AgeatExecution FROM executions      \n",
    "    WHERE NOT AgeatExecution > 29;\n",
    "            \"\"\").pl()"
   ]
  },
  {
   "cell_type": "code",
   "execution_count": null,
   "metadata": {},
   "outputs": [],
   "source": [
    "# Requêtage SQL converti en DF polars :\n",
    "# Condamnés n'ayant pas moins de 60 ans lors de leurs exécutions\n",
    "conn.execute(\"\"\"\n",
    "    SELECT LastName, FirstName, AgeatExecution FROM executions\n",
    "    WHERE NOT AgeatExecution < 60\n",
    "    ORDER BY AgeatExecution DESC, LastName;        \n",
    "             \"\"\").pl()"
   ]
  }
 ],
 "metadata": {
  "kernelspec": {
   "display_name": "Python 3",
   "language": "python",
   "name": "python3"
  },
  "language_info": {
   "codemirror_mode": {
    "name": "ipython",
    "version": 3
   },
   "file_extension": ".py",
   "mimetype": "text/x-python",
   "name": "python",
   "nbconvert_exporter": "python",
   "pygments_lexer": "ipython3",
   "version": "3.9.2"
  }
 },
 "nbformat": 4,
 "nbformat_minor": 2
}
