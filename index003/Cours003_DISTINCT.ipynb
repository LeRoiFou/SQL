{
 "cells": [
  {
   "cell_type": "code",
   "execution_count": 1,
   "metadata": {},
   "outputs": [],
   "source": [
    "import duckdb"
   ]
  },
  {
   "cell_type": "code",
   "execution_count": 2,
   "metadata": {},
   "outputs": [],
   "source": [
    "conn = duckdb.connect('data.db')"
   ]
  },
  {
   "cell_type": "code",
   "execution_count": 5,
   "metadata": {},
   "outputs": [
    {
     "data": {
      "text/html": [
       "<div><style>\n",
       ".dataframe > thead > tr > th,\n",
       ".dataframe > tbody > tr > td {\n",
       "  text-align: right;\n",
       "}\n",
       "</style>\n",
       "<small>shape: (92, 1)</small><table border=\"1\" class=\"dataframe\"><thead><tr><th>County</th></tr><tr><td>str</td></tr></thead><tbody><tr><td>&quot;Anderson&quot;</td></tr><tr><td>&quot;Aransas&quot;</td></tr><tr><td>&quot;Atascosa&quot;</td></tr><tr><td>&quot;Bailey&quot;</td></tr><tr><td>&quot;Bastrop&quot;</td></tr><tr><td>&quot;Bee&quot;</td></tr><tr><td>&quot;Bell&quot;</td></tr><tr><td>&quot;Bexar&quot;</td></tr><tr><td>&quot;Bowie&quot;</td></tr><tr><td>&quot;Brazoria&quot;</td></tr><tr><td>&quot;Brazos&quot;</td></tr><tr><td>&quot;Brown&quot;</td></tr><tr><td>&hellip;</td></tr><tr><td>&quot;Tom Green&quot;</td></tr><tr><td>&quot;Travis&quot;</td></tr><tr><td>&quot;Trinity&quot;</td></tr><tr><td>&quot;Upshur&quot;</td></tr><tr><td>&quot;Val Verde&quot;</td></tr><tr><td>&quot;Victoria&quot;</td></tr><tr><td>&quot;Walker&quot;</td></tr><tr><td>&quot;Wharton&quot;</td></tr><tr><td>&quot;Wichita&quot;</td></tr><tr><td>&quot;Wilbarger&quot;</td></tr><tr><td>&quot;Williamson&quot;</td></tr><tr><td>&quot;Wood&quot;</td></tr></tbody></table></div>"
      ],
      "text/plain": [
       "shape: (92, 1)\n",
       "┌────────────┐\n",
       "│ County     │\n",
       "│ ---        │\n",
       "│ str        │\n",
       "╞════════════╡\n",
       "│ Anderson   │\n",
       "│ Aransas    │\n",
       "│ Atascosa   │\n",
       "│ Bailey     │\n",
       "│ …          │\n",
       "│ Wichita    │\n",
       "│ Wilbarger  │\n",
       "│ Williamson │\n",
       "│ Wood       │\n",
       "└────────────┘"
      ]
     },
     "execution_count": 5,
     "metadata": {},
     "output_type": "execute_result"
    }
   ],
   "source": [
    "conn.execute(\"\"\"SELECT DISTINCT County FROM executions\n",
    "             ORDER BY County\"\"\").pl()"
   ]
  }
 ],
 "metadata": {
  "kernelspec": {
   "display_name": "Python 3",
   "language": "python",
   "name": "python3"
  },
  "language_info": {
   "codemirror_mode": {
    "name": "ipython",
    "version": 3
   },
   "file_extension": ".py",
   "mimetype": "text/x-python",
   "name": "python",
   "nbconvert_exporter": "python",
   "pygments_lexer": "ipython3",
   "version": "3.9.2"
  }
 },
 "nbformat": 4,
 "nbformat_minor": 2
}
