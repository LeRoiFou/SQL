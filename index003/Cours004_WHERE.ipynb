{
 "cells": [
  {
   "cell_type": "code",
   "execution_count": 1,
   "metadata": {},
   "outputs": [],
   "source": [
    "import duckdb"
   ]
  },
  {
   "cell_type": "code",
   "execution_count": 2,
   "metadata": {},
   "outputs": [],
   "source": [
    "# Connection à la base de données\n",
    "conn = duckdb.connect('data.db')"
   ]
  },
  {
   "cell_type": "code",
   "execution_count": 6,
   "metadata": {},
   "outputs": [
    {
     "data": {
      "text/html": [
       "<div><style>\n",
       ".dataframe > thead > tr > th,\n",
       ".dataframe > tbody > tr > td {\n",
       "  text-align: right;\n",
       "}\n",
       "</style>\n",
       "<small>shape: (5, 18)</small><table border=\"1\" class=\"dataframe\"><thead><tr><th>Execution</th><th>DateofBirth</th><th>DateofOffence</th><th>HighestEducationLevel</th><th>LastName</th><th>FirstName</th><th>TDCJ\n",
       "Number</th><th>AgeatExecution</th><th>DateReceived</th><th>ExecutionDate</th><th>Race</th><th>County</th><th>EyeColor</th><th>Weight</th><th>Height</th><th>NativeCounty</th><th>NativeState</th><th>LastStatement</th></tr><tr><td>i64</td><td>str</td><td>str</td><td>str</td><td>str</td><td>str</td><td>i64</td><td>i64</td><td>str</td><td>str</td><td>str</td><td>str</td><td>str</td><td>i64</td><td>str</td><td>str</td><td>str</td><td>str</td></tr></thead><tbody><tr><td>548</td><td>&quot;1955-08-02&quot;</td><td>&quot;2001-05-02&quot;</td><td>&quot;12&quot;</td><td>&quot;Battaglia&quot;</td><td>&quot;John David&quot;</td><td>999412</td><td>62</td><td>&quot;2002-05-01&quot;</td><td>&quot;2018-02-01&quot;</td><td>&quot;White&quot;</td><td>&quot;Dallas&quot;</td><td>&quot;Green&quot;</td><td>188</td><td>&quot;6&#x27; 0&quot;&quot;</td><td>&quot;Dallas&quot;</td><td>&quot;Texas&quot;</td><td>&quot;No, Well, Hi M…</td></tr><tr><td>547</td><td>&quot;1953-05-21&quot;</td><td>&quot;1999-11-16&quot;</td><td>&quot;12&quot;</td><td>&quot;Rayford&quot;</td><td>&quot;William Earl&quot;</td><td>999371</td><td>64</td><td>&quot;2001-01-04&quot;</td><td>&quot;2018-01-30&quot;</td><td>&quot;Black&quot;</td><td>&quot;Dallas&quot;</td><td>&quot;Brown&quot;</td><td>179</td><td>&quot;6&#x27; 4&quot;&quot;</td><td>&quot;Dallas&quot;</td><td>&quot;Texas&quot;</td><td>&quot;First I would …</td></tr><tr><td>540</td><td>&quot;1973-08-10&quot;</td><td>&quot;2002-07-08&quot;</td><td>&quot;12&quot;</td><td>&quot;Edwards&quot;</td><td>&quot;Terry&quot;</td><td>999463</td><td>43</td><td>&quot;2003-12-04&quot;</td><td>&quot;2017-01-26&quot;</td><td>&quot;Black&quot;</td><td>&quot;Dallas&quot;</td><td>&quot;Brown&quot;</td><td>157</td><td>&quot;5&#x27; 7&quot;&quot;</td><td>&quot;Dallas&quot;</td><td>&quot;Texas&quot;</td><td>&quot;Yes, I made pe…</td></tr><tr><td>530</td><td>&quot;1982-07-03&quot;</td><td>&quot;2001-11-25&quot;</td><td>&quot;8&quot;</td><td>&quot;Escamilla&quot;</td><td>&quot;Licho&quot;</td><td>999432</td><td>33</td><td>&quot;2002-11-01&quot;</td><td>&quot;2015-10-14&quot;</td><td>&quot;Hispanic&quot;</td><td>&quot;Dallas&quot;</td><td>&quot;Brown&quot;</td><td>156</td><td>&quot;5&#x27; 6&quot;&quot;</td><td>&quot;Dallas&quot;</td><td>&quot;Texas&quot;</td><td>&quot;Shelby, God bl…</td></tr><tr><td>521</td><td>&quot;1962-05-18&quot;</td><td>&quot;2000-12-24&quot;</td><td>&quot;6&quot;</td><td>&quot;Newbury&quot;</td><td>&quot;Donald&quot;</td><td>999403</td><td>53</td><td>&quot;2002-01-28&quot;</td><td>&quot;2015-02-04&quot;</td><td>&quot;White&quot;</td><td>&quot;Dallas&quot;</td><td>&quot;Brown&quot;</td><td>215</td><td>&quot;6&#x27; 0&quot;&quot;</td><td>&quot;Bernalillo&quot;</td><td>&quot;New Mexico&quot;</td><td>&quot;That each new …</td></tr></tbody></table></div>"
      ],
      "text/plain": [
       "shape: (5, 18)\n",
       "┌───────────┬───────────┬────────────┬────────────┬───┬────────┬────────────┬───────────┬────────────┐\n",
       "│ Execution ┆ DateofBir ┆ DateofOffe ┆ HighestEdu ┆ … ┆ Height ┆ NativeCoun ┆ NativeSta ┆ LastStatem │\n",
       "│ ---       ┆ th        ┆ nce        ┆ cationLeve ┆   ┆ ---    ┆ ty         ┆ te        ┆ ent        │\n",
       "│ i64       ┆ ---       ┆ ---        ┆ l          ┆   ┆ str    ┆ ---        ┆ ---       ┆ ---        │\n",
       "│           ┆ str       ┆ str        ┆ ---        ┆   ┆        ┆ str        ┆ str       ┆ str        │\n",
       "│           ┆           ┆            ┆ str        ┆   ┆        ┆            ┆           ┆            │\n",
       "╞═══════════╪═══════════╪════════════╪════════════╪═══╪════════╪════════════╪═══════════╪════════════╡\n",
       "│ 548       ┆ 1955-08-0 ┆ 2001-05-02 ┆ 12         ┆ … ┆ 6' 0\"  ┆ Dallas     ┆ Texas     ┆ No, Well,  │\n",
       "│           ┆ 2         ┆            ┆            ┆   ┆        ┆            ┆           ┆ Hi Mary    │\n",
       "│           ┆           ┆            ┆            ┆   ┆        ┆            ┆           ┆ Jean. See  │\n",
       "│           ┆           ┆            ┆            ┆   ┆        ┆            ┆           ┆ y'al…      │\n",
       "│ 547       ┆ 1953-05-2 ┆ 1999-11-16 ┆ 12         ┆ … ┆ 6' 4\"  ┆ Dallas     ┆ Texas     ┆ First I    │\n",
       "│           ┆ 1         ┆            ┆            ┆   ┆        ┆            ┆           ┆ would like │\n",
       "│           ┆           ┆            ┆            ┆   ┆        ┆            ┆           ┆ to praise  │\n",
       "│           ┆           ┆            ┆            ┆   ┆        ┆            ┆           ┆ my …       │\n",
       "│ 540       ┆ 1973-08-1 ┆ 2002-07-08 ┆ 12         ┆ … ┆ 5' 7\"  ┆ Dallas     ┆ Texas     ┆ Yes, I     │\n",
       "│           ┆ 0         ┆            ┆            ┆   ┆        ┆            ┆           ┆ made peace │\n",
       "│           ┆           ┆            ┆            ┆   ┆        ┆            ┆           ┆ with God.  │\n",
       "│           ┆           ┆            ┆            ┆   ┆        ┆            ┆           ┆ I ho…      │\n",
       "│ 530       ┆ 1982-07-0 ┆ 2001-11-25 ┆ 8          ┆ … ┆ 5' 6\"  ┆ Dallas     ┆ Texas     ┆ Shelby,    │\n",
       "│           ┆ 3         ┆            ┆            ┆   ┆        ┆            ┆           ┆ God bless  │\n",
       "│           ┆           ┆            ┆            ┆   ┆        ┆            ┆           ┆ your       │\n",
       "│           ┆           ┆            ┆            ┆   ┆        ┆            ┆           ┆ heart. To… │\n",
       "│ 521       ┆ 1962-05-1 ┆ 2000-12-24 ┆ 6          ┆ … ┆ 6' 0\"  ┆ Bernalillo ┆ New       ┆ That each  │\n",
       "│           ┆ 8         ┆            ┆            ┆   ┆        ┆            ┆ Mexico    ┆ new        │\n",
       "│           ┆           ┆            ┆            ┆   ┆        ┆            ┆           ┆ indignity  │\n",
       "│           ┆           ┆            ┆            ┆   ┆        ┆            ┆           ┆ defeats …  │\n",
       "└───────────┴───────────┴────────────┴────────────┴───┴────────┴────────────┴───────────┴────────────┘"
      ]
     },
     "execution_count": 6,
     "metadata": {},
     "output_type": "execute_result"
    }
   ],
   "source": [
    "# Exécution de la requête SQL et conversion en DF polars :\n",
    "# Afficher toute la table avec le filtre County = 'Dallas'\n",
    "conn.execute(\"\"\"\n",
    "             SELECT * FROM executions\n",
    "             WHERE County = 'Dallas'; \n",
    "             \"\"\").pl().head()"
   ]
  },
  {
   "cell_type": "code",
   "execution_count": 9,
   "metadata": {},
   "outputs": [
    {
     "data": {
      "text/html": [
       "<div><style>\n",
       ".dataframe > thead > tr > th,\n",
       ".dataframe > tbody > tr > td {\n",
       "  text-align: right;\n",
       "}\n",
       "</style>\n",
       "<small>shape: (13, 3)</small><table border=\"1\" class=\"dataframe\"><thead><tr><th>FirstName</th><th>LastName</th><th>AgeatExecution</th></tr><tr><td>str</td><td>str</td><td>i64</td></tr></thead><tbody><tr><td>&quot;Lester&quot;</td><td>&quot;Bower&quot;</td><td>67</td></tr><tr><td>&quot;Danny Paul&quot;</td><td>&quot;Bible&quot;</td><td>66</td></tr><tr><td>&quot;William&quot;</td><td>&quot;Chappell&quot;</td><td>66</td></tr><tr><td>&quot;William Earl&quot;</td><td>&quot;Rayford&quot;</td><td>64</td></tr><tr><td>&quot;Hilton&quot;</td><td>&quot;Crawford&quot;</td><td>64</td></tr><tr><td>&quot;John David&quot;</td><td>&quot;Battaglia&quot;</td><td>62</td></tr><tr><td>&quot;Betty&quot;</td><td>&quot;Beets&quot;</td><td>62</td></tr><tr><td>&quot;Clydell&quot;</td><td>&quot;Coleman&quot;</td><td>62</td></tr><tr><td>&quot;James Eugene&quot;</td><td>&quot;Bigby&quot;</td><td>61</td></tr><tr><td>&quot;Richard&quot;</td><td>&quot;Duncan&quot;</td><td>61</td></tr><tr><td>&quot;Joseph&quot;</td><td>&quot;Faulder&quot;</td><td>61</td></tr><tr><td>&quot;Excell&quot;</td><td>&quot;White&quot;</td><td>61</td></tr><tr><td>&quot;Claude&quot;</td><td>&quot;Jones&quot;</td><td>60</td></tr></tbody></table></div>"
      ],
      "text/plain": [
       "shape: (13, 3)\n",
       "┌──────────────┬──────────┬────────────────┐\n",
       "│ FirstName    ┆ LastName ┆ AgeatExecution │\n",
       "│ ---          ┆ ---      ┆ ---            │\n",
       "│ str          ┆ str      ┆ i64            │\n",
       "╞══════════════╪══════════╪════════════════╡\n",
       "│ Lester       ┆ Bower    ┆ 67             │\n",
       "│ Danny Paul   ┆ Bible    ┆ 66             │\n",
       "│ William      ┆ Chappell ┆ 66             │\n",
       "│ William Earl ┆ Rayford  ┆ 64             │\n",
       "│ …            ┆ …        ┆ …              │\n",
       "│ Richard      ┆ Duncan   ┆ 61             │\n",
       "│ Joseph       ┆ Faulder  ┆ 61             │\n",
       "│ Excell       ┆ White    ┆ 61             │\n",
       "│ Claude       ┆ Jones    ┆ 60             │\n",
       "└──────────────┴──────────┴────────────────┘"
      ]
     },
     "execution_count": 9,
     "metadata": {},
     "output_type": "execute_result"
    }
   ],
   "source": [
    "# Exécution de la requête SQL convertie en DF polars : \n",
    "# Afficher certains champs de la table avec les condamnés ayant au moins de 60 ans\n",
    "# lors de leurs exécutions\n",
    "conn.execute(\"\"\"\n",
    "SELECT Firstname, LastName, AgeatExecution FROM executions\n",
    "    WHERE AgeatExecution >= 60 ORDER BY AgeatExecution DESC;   \n",
    "             \"\"\").pl()"
   ]
  },
  {
   "cell_type": "code",
   "execution_count": 10,
   "metadata": {},
   "outputs": [
    {
     "data": {
      "text/html": [
       "<div><style>\n",
       ".dataframe > thead > tr > th,\n",
       ".dataframe > tbody > tr > td {\n",
       "  text-align: right;\n",
       "}\n",
       "</style>\n",
       "<small>shape: (184, 3)</small><table border=\"1\" class=\"dataframe\"><thead><tr><th>FirstName</th><th>LastName</th><th>NativeState</th></tr><tr><td>str</td><td>str</td><td>str</td></tr></thead><tbody><tr><td>&quot;Anthony&quot;</td><td>&quot;Shore&quot;</td><td>&quot;South Dakota&quot;</td></tr><tr><td>&quot;Barney&quot;</td><td>&quot;Fuller&quot;</td><td>&quot;Ohio&quot;</td></tr><tr><td>&quot;Lester&quot;</td><td>&quot;Bower&quot;</td><td>&quot;Missouri&quot;</td></tr><tr><td>&quot;Kent&quot;</td><td>&quot;Sprouse&quot;</td><td>&quot;Missouri&quot;</td></tr><tr><td>&quot;Manuel&quot;</td><td>&quot;Vasquez&quot;</td><td>&quot;Idaho&quot;</td></tr><tr><td>&quot;Donald&quot;</td><td>&quot;Newbury&quot;</td><td>&quot;New Mexico&quot;</td></tr><tr><td>&quot;Arnold&quot;</td><td>&quot;Prieto&quot;</td><td>&quot;New Mexico&quot;</td></tr><tr><td>&quot;Miguel&quot;</td><td>&quot;Paredes&quot;</td><td>&quot;Illinois&quot;</td></tr><tr><td>&quot;Ramiro&quot;</td><td>&quot;Hernandez&quot;</td><td>&quot;Mexico&quot;</td></tr><tr><td>&quot;Tommy&quot;</td><td>&quot;Sells&quot;</td><td>&quot;California&quot;</td></tr><tr><td>&quot;Ray&quot;</td><td>&quot;Jasper&quot;</td><td>&quot;Netherlands&quot;</td></tr><tr><td>&quot;Suzanne&quot;</td><td>&quot;Basso&quot;</td><td>&quot;New York&quot;</td></tr><tr><td>&hellip;</td><td>&hellip;</td><td>&hellip;</td></tr><tr><td>&quot;John&quot;</td><td>&quot;Sawyers&quot;</td><td>&quot;Michigan&quot;</td></tr><tr><td>&quot;Ramon&quot;</td><td>&quot;Montoya&quot;</td><td>&quot;Mexico&quot;</td></tr><tr><td>&quot;Carlos&quot;</td><td>&quot;Santana&quot;</td><td>&quot;Dominican Repu…</td></tr><tr><td>&quot;Justin&quot;</td><td>&quot;May&quot;</td><td>&quot;Mississippi&quot;</td></tr><tr><td>&quot;David&quot;</td><td>&quot;Clark&quot;</td><td>&quot;Pennsylvania&quot;</td></tr><tr><td>&quot;Johnny&quot;</td><td>&quot;Garrett&quot;</td><td>&quot;Oklahoma&quot;</td></tr><tr><td>&quot;James&quot;</td><td>&quot;Russell&quot;</td><td>&quot;Louisiana&quot;</td></tr><tr><td>&quot;Ignacio&quot;</td><td>&quot;Cuevas&quot;</td><td>&quot;Mexico&quot;</td></tr><tr><td>&quot;Lawrence&quot;</td><td>&quot;Buxton&quot;</td><td>&quot;Georgia&quot;</td></tr><tr><td>&quot;James&quot;</td><td>&quot;Smith&quot;</td><td>&quot;Kentucky&quot;</td></tr><tr><td>&quot;James&quot;</td><td>&quot;Paster&quot;</td><td>&quot;Ohio&quot;</td></tr><tr><td>&quot;Raymond&quot;</td><td>&quot;Landry, Sr.&quot;</td><td>&quot;Louisiana&quot;</td></tr></tbody></table></div>"
      ],
      "text/plain": [
       "shape: (184, 3)\n",
       "┌───────────┬─────────────┬──────────────┐\n",
       "│ FirstName ┆ LastName    ┆ NativeState  │\n",
       "│ ---       ┆ ---         ┆ ---          │\n",
       "│ str       ┆ str         ┆ str          │\n",
       "╞═══════════╪═════════════╪══════════════╡\n",
       "│ Anthony   ┆ Shore       ┆ South Dakota │\n",
       "│ Barney    ┆ Fuller      ┆ Ohio         │\n",
       "│ Lester    ┆ Bower       ┆ Missouri     │\n",
       "│ Kent      ┆ Sprouse     ┆ Missouri     │\n",
       "│ …         ┆ …           ┆ …            │\n",
       "│ Lawrence  ┆ Buxton      ┆ Georgia      │\n",
       "│ James     ┆ Smith       ┆ Kentucky     │\n",
       "│ James     ┆ Paster      ┆ Ohio         │\n",
       "│ Raymond   ┆ Landry, Sr. ┆ Louisiana    │\n",
       "└───────────┴─────────────┴──────────────┘"
      ]
     },
     "execution_count": 10,
     "metadata": {},
     "output_type": "execute_result"
    }
   ],
   "source": [
    "# Exécution de la requête SQL et convertion en DF polars :\n",
    "# Afficher certaines champs de la table avec les condamnés qui ne sont pas nés\n",
    "# dans l'État du Texas\n",
    "conn.execute(\"\"\"\n",
    "SELECT FirstName, LastName, NativeState FROM executions\n",
    "    WHERE NOT NativeState = 'Texas';\n",
    "             \"\"\").pl()"
   ]
  },
  {
   "cell_type": "code",
   "execution_count": 11,
   "metadata": {},
   "outputs": [
    {
     "data": {
      "text/html": [
       "<div><style>\n",
       ".dataframe > thead > tr > th,\n",
       ".dataframe > tbody > tr > td {\n",
       "  text-align: right;\n",
       "}\n",
       "</style>\n",
       "<small>shape: (180, 4)</small><table border=\"1\" class=\"dataframe\"><thead><tr><th>FirstName</th><th>LastName</th><th>AgeatExecution</th><th>NativeState</th></tr><tr><td>str</td><td>str</td><td>i64</td><td>str</td></tr></thead><tbody><tr><td>&quot;Anthony&quot;</td><td>&quot;Shore&quot;</td><td>55</td><td>&quot;South Dakota&quot;</td></tr><tr><td>&quot;Barney&quot;</td><td>&quot;Fuller&quot;</td><td>58</td><td>&quot;Ohio&quot;</td></tr><tr><td>&quot;Kent&quot;</td><td>&quot;Sprouse&quot;</td><td>42</td><td>&quot;Missouri&quot;</td></tr><tr><td>&quot;Manuel&quot;</td><td>&quot;Vasquez&quot;</td><td>46</td><td>&quot;Idaho&quot;</td></tr><tr><td>&quot;Donald&quot;</td><td>&quot;Newbury&quot;</td><td>53</td><td>&quot;New Mexico&quot;</td></tr><tr><td>&quot;Arnold&quot;</td><td>&quot;Prieto&quot;</td><td>42</td><td>&quot;New Mexico&quot;</td></tr><tr><td>&quot;Miguel&quot;</td><td>&quot;Paredes&quot;</td><td>32</td><td>&quot;Illinois&quot;</td></tr><tr><td>&quot;Ramiro&quot;</td><td>&quot;Hernandez&quot;</td><td>44</td><td>&quot;Mexico&quot;</td></tr><tr><td>&quot;Tommy&quot;</td><td>&quot;Sells&quot;</td><td>49</td><td>&quot;California&quot;</td></tr><tr><td>&quot;Ray&quot;</td><td>&quot;Jasper&quot;</td><td>33</td><td>&quot;Netherlands&quot;</td></tr><tr><td>&quot;Suzanne&quot;</td><td>&quot;Basso&quot;</td><td>59</td><td>&quot;New York&quot;</td></tr><tr><td>&quot;Edgar&quot;</td><td>&quot;Tamayo&quot;</td><td>46</td><td>&quot;Mexico&quot;</td></tr><tr><td>&hellip;</td><td>&hellip;</td><td>&hellip;</td><td>&hellip;</td></tr><tr><td>&quot;John&quot;</td><td>&quot;Sawyers&quot;</td><td>38</td><td>&quot;Michigan&quot;</td></tr><tr><td>&quot;Ramon&quot;</td><td>&quot;Montoya&quot;</td><td>38</td><td>&quot;Mexico&quot;</td></tr><tr><td>&quot;Carlos&quot;</td><td>&quot;Santana&quot;</td><td>40</td><td>&quot;Dominican Repu…</td></tr><tr><td>&quot;Justin&quot;</td><td>&quot;May&quot;</td><td>46</td><td>&quot;Mississippi&quot;</td></tr><tr><td>&quot;David&quot;</td><td>&quot;Clark&quot;</td><td>32</td><td>&quot;Pennsylvania&quot;</td></tr><tr><td>&quot;Johnny&quot;</td><td>&quot;Garrett&quot;</td><td>28</td><td>&quot;Oklahoma&quot;</td></tr><tr><td>&quot;James&quot;</td><td>&quot;Russell&quot;</td><td>42</td><td>&quot;Louisiana&quot;</td></tr><tr><td>&quot;Ignacio&quot;</td><td>&quot;Cuevas&quot;</td><td>59</td><td>&quot;Mexico&quot;</td></tr><tr><td>&quot;Lawrence&quot;</td><td>&quot;Buxton&quot;</td><td>38</td><td>&quot;Georgia&quot;</td></tr><tr><td>&quot;James&quot;</td><td>&quot;Smith&quot;</td><td>37</td><td>&quot;Kentucky&quot;</td></tr><tr><td>&quot;James&quot;</td><td>&quot;Paster&quot;</td><td>44</td><td>&quot;Ohio&quot;</td></tr><tr><td>&quot;Raymond&quot;</td><td>&quot;Landry, Sr.&quot;</td><td>39</td><td>&quot;Louisiana&quot;</td></tr></tbody></table></div>"
      ],
      "text/plain": [
       "shape: (180, 4)\n",
       "┌───────────┬─────────────┬────────────────┬──────────────┐\n",
       "│ FirstName ┆ LastName    ┆ AgeatExecution ┆ NativeState  │\n",
       "│ ---       ┆ ---         ┆ ---            ┆ ---          │\n",
       "│ str       ┆ str         ┆ i64            ┆ str          │\n",
       "╞═══════════╪═════════════╪════════════════╪══════════════╡\n",
       "│ Anthony   ┆ Shore       ┆ 55             ┆ South Dakota │\n",
       "│ Barney    ┆ Fuller      ┆ 58             ┆ Ohio         │\n",
       "│ Kent      ┆ Sprouse     ┆ 42             ┆ Missouri     │\n",
       "│ Manuel    ┆ Vasquez     ┆ 46             ┆ Idaho        │\n",
       "│ …         ┆ …           ┆ …              ┆ …            │\n",
       "│ Lawrence  ┆ Buxton      ┆ 38             ┆ Georgia      │\n",
       "│ James     ┆ Smith       ┆ 37             ┆ Kentucky     │\n",
       "│ James     ┆ Paster      ┆ 44             ┆ Ohio         │\n",
       "│ Raymond   ┆ Landry, Sr. ┆ 39             ┆ Louisiana    │\n",
       "└───────────┴─────────────┴────────────────┴──────────────┘"
      ]
     },
     "execution_count": 11,
     "metadata": {},
     "output_type": "execute_result"
    }
   ],
   "source": [
    "# Requête SQL et conversion en DF polars:\n",
    "# Afficher certaines champs de la table avec les condamnés qui ne sont pas nés\n",
    "# dans l'État du Texas et ayant exécutés avec un âge de moins de 60 ans\n",
    "conn.execute(\"\"\"\n",
    "SELECT FirstName, LastName, AgeatExecution, NativeState FROM executions\n",
    "    WHERE NOT NativeState = 'Texas' AND AgeatExecution < 60;\n",
    "             \"\"\").pl()"
   ]
  }
 ],
 "metadata": {
  "kernelspec": {
   "display_name": "Python 3",
   "language": "python",
   "name": "python3"
  },
  "language_info": {
   "codemirror_mode": {
    "name": "ipython",
    "version": 3
   },
   "file_extension": ".py",
   "mimetype": "text/x-python",
   "name": "python",
   "nbconvert_exporter": "python",
   "pygments_lexer": "ipython3",
   "version": "3.9.2"
  }
 },
 "nbformat": 4,
 "nbformat_minor": 2
}
