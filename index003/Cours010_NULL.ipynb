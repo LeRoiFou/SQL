{
 "cells": [
  {
   "cell_type": "code",
   "execution_count": 2,
   "metadata": {},
   "outputs": [],
   "source": [
    "import duckdb"
   ]
  },
  {
   "cell_type": "code",
   "execution_count": 3,
   "metadata": {},
   "outputs": [],
   "source": [
    "# Connection à la BD\n",
    "conn = duckdb.connect('data.db')"
   ]
  },
  {
   "cell_type": "code",
   "execution_count": 4,
   "metadata": {},
   "outputs": [
    {
     "data": {
      "text/html": [
       "<div><style>\n",
       ".dataframe > thead > tr > th,\n",
       ".dataframe > tbody > tr > td {\n",
       "  text-align: right;\n",
       "}\n",
       "</style>\n",
       "<small>shape: (443, 2)</small><table border=\"1\" class=\"dataframe\"><thead><tr><th>LastName</th><th>FirstName</th></tr><tr><td>str</td><td>str</td></tr></thead><tbody><tr><td>&quot;Adams&quot;</td><td>&quot;Beunka&quot;</td></tr><tr><td>&quot;Adanandus&quot;</td><td>&quot;Dwight&quot;</td></tr><tr><td>&quot;Aguilar&quot;</td><td>&quot;Jesus&quot;</td></tr><tr><td>&quot;Alba&quot;</td><td>&quot;John&quot;</td></tr><tr><td>&quot;Aldrich&quot;</td><td>&quot;Donald&quot;</td></tr><tr><td>&quot;Alix&quot;</td><td>&quot;Franklin&quot;</td></tr><tr><td>&quot;Allridge, III&quot;</td><td>&quot;James&quot;</td></tr><tr><td>&quot;Amador&quot;</td><td>&quot;John&quot;</td></tr><tr><td>&quot;Anderson&quot;</td><td>&quot;Newton&quot;</td></tr><tr><td>&quot;Anderson&quot;</td><td>&quot;Johnny&quot;</td></tr><tr><td>&quot;Anderson&quot;</td><td>&quot;Robert&quot;</td></tr><tr><td>&quot;Arnold&quot;</td><td>&quot;Jermarr&quot;</td></tr><tr><td>&hellip;</td><td>&hellip;</td></tr><tr><td>&quot;Wilson&quot;</td><td>&quot;Jackie&quot;</td></tr><tr><td>&quot;Wilson&quot;</td><td>&quot;Marvin&quot;</td></tr><tr><td>&quot;Wolfe&quot;</td><td>&quot;Bryan&quot;</td></tr><tr><td>&quot;Woods&quot;</td><td>&quot;Bobby&quot;</td></tr><tr><td>&quot;Woods&quot;</td><td>&quot;Steven&quot;</td></tr><tr><td>&quot;Woolls&quot;</td><td>&quot;Randy&quot;</td></tr><tr><td>&quot;Wooten&quot;</td><td>&quot;Larry&quot;</td></tr><tr><td>&quot;Wright&quot;</td><td>&quot;Gregory&quot;</td></tr><tr><td>&quot;Wyatt, Jr.&quot;</td><td>&quot;William&quot;</td></tr><tr><td>&quot;Young&quot;</td><td>&quot;Christopher An…</td></tr><tr><td>&quot;Yowell&quot;</td><td>&quot;Michael&quot;</td></tr><tr><td>&quot;Zimmerman&quot;</td><td>&quot;Kevin&quot;</td></tr></tbody></table></div>"
      ],
      "text/plain": [
       "shape: (443, 2)\n",
       "┌────────────┬─────────────────────┐\n",
       "│ LastName   ┆ FirstName           │\n",
       "│ ---        ┆ ---                 │\n",
       "│ str        ┆ str                 │\n",
       "╞════════════╪═════════════════════╡\n",
       "│ Adams      ┆ Beunka              │\n",
       "│ Adanandus  ┆ Dwight              │\n",
       "│ Aguilar    ┆ Jesus               │\n",
       "│ Alba       ┆ John                │\n",
       "│ …          ┆ …                   │\n",
       "│ Wyatt, Jr. ┆ William             │\n",
       "│ Young      ┆ Christopher Anthony │\n",
       "│ Yowell     ┆ Michael             │\n",
       "│ Zimmerman  ┆ Kevin               │\n",
       "└────────────┴─────────────────────┘"
      ]
     },
     "execution_count": 4,
     "metadata": {},
     "output_type": "execute_result"
    }
   ],
   "source": [
    "# Requêtage SQL converti en DF polars :\n",
    "# Filtre sur les condamnés qui ont fait une déclaration lors de leurs\n",
    "# exécutions\n",
    "conn.execute(\"\"\"\n",
    "SELECT LastName, FirstName FROM executions \n",
    "    WHERE LastStatement IS NOT NULL ORDER BY LastName;\n",
    "             \"\"\").pl()"
   ]
  }
 ],
 "metadata": {
  "kernelspec": {
   "display_name": "Python 3",
   "language": "python",
   "name": "python3"
  },
  "language_info": {
   "codemirror_mode": {
    "name": "ipython",
    "version": 3
   },
   "file_extension": ".py",
   "mimetype": "text/x-python",
   "name": "python",
   "nbconvert_exporter": "python",
   "pygments_lexer": "ipython3",
   "version": "3.9.2"
  }
 },
 "nbformat": 4,
 "nbformat_minor": 2
}
