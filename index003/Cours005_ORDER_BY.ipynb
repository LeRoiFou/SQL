{
 "cells": [
  {
   "cell_type": "code",
   "execution_count": 1,
   "metadata": {},
   "outputs": [],
   "source": [
    "import duckdb"
   ]
  },
  {
   "cell_type": "code",
   "execution_count": 2,
   "metadata": {},
   "outputs": [],
   "source": [
    "# Connection à la base de données\n",
    "conn = duckdb.connect('data.db')"
   ]
  },
  {
   "cell_type": "code",
   "execution_count": 4,
   "metadata": {},
   "outputs": [
    {
     "data": {
      "text/html": [
       "<div><style>\n",
       ".dataframe > thead > tr > th,\n",
       ".dataframe > tbody > tr > td {\n",
       "  text-align: right;\n",
       "}\n",
       "</style>\n",
       "<small>shape: (552, 2)</small><table border=\"1\" class=\"dataframe\"><thead><tr><th>FirstName</th><th>LastName</th></tr><tr><td>str</td><td>str</td></tr></thead><tbody><tr><td>&quot;Beunka&quot;</td><td>&quot;Adams&quot;</td></tr><tr><td>&quot;Timothy&quot;</td><td>&quot;Adams&quot;</td></tr><tr><td>&quot;Dwight&quot;</td><td>&quot;Adanandus&quot;</td></tr><tr><td>&quot;Jesus&quot;</td><td>&quot;Aguilar&quot;</td></tr><tr><td>&quot;John&quot;</td><td>&quot;Alba&quot;</td></tr><tr><td>&quot;Donald&quot;</td><td>&quot;Aldrich&quot;</td></tr><tr><td>&quot;Caruthers&quot;</td><td>&quot;Alexander&quot;</td></tr><tr><td>&quot;Franklin&quot;</td><td>&quot;Alix&quot;</td></tr><tr><td>&quot;Ronald&quot;</td><td>&quot;Allridge&quot;</td></tr><tr><td>&quot;James&quot;</td><td>&quot;Allridge, III&quot;</td></tr><tr><td>&quot;John&quot;</td><td>&quot;Amador&quot;</td></tr><tr><td>&quot;Bernard&quot;</td><td>&quot;Amos&quot;</td></tr><tr><td>&hellip;</td><td>&hellip;</td></tr><tr><td>&quot;Marvin&quot;</td><td>&quot;Wilson&quot;</td></tr><tr><td>&quot;Bryan&quot;</td><td>&quot;Wolfe&quot;</td></tr><tr><td>&quot;Billy&quot;</td><td>&quot;Woods&quot;</td></tr><tr><td>&quot;Bobby&quot;</td><td>&quot;Woods&quot;</td></tr><tr><td>&quot;Steven&quot;</td><td>&quot;Woods&quot;</td></tr><tr><td>&quot;Randy&quot;</td><td>&quot;Woolls&quot;</td></tr><tr><td>&quot;Larry&quot;</td><td>&quot;Wooten&quot;</td></tr><tr><td>&quot;Gregory&quot;</td><td>&quot;Wright&quot;</td></tr><tr><td>&quot;William&quot;</td><td>&quot;Wyatt, Jr.&quot;</td></tr><tr><td>&quot;Christopher An…</td><td>&quot;Young&quot;</td></tr><tr><td>&quot;Michael&quot;</td><td>&quot;Yowell&quot;</td></tr><tr><td>&quot;Kevin&quot;</td><td>&quot;Zimmerman&quot;</td></tr></tbody></table></div>"
      ],
      "text/plain": [
       "shape: (552, 2)\n",
       "┌─────────────────────┬────────────┐\n",
       "│ FirstName           ┆ LastName   │\n",
       "│ ---                 ┆ ---        │\n",
       "│ str                 ┆ str        │\n",
       "╞═════════════════════╪════════════╡\n",
       "│ Beunka              ┆ Adams      │\n",
       "│ Timothy             ┆ Adams      │\n",
       "│ Dwight              ┆ Adanandus  │\n",
       "│ Jesus               ┆ Aguilar    │\n",
       "│ …                   ┆ …          │\n",
       "│ William             ┆ Wyatt, Jr. │\n",
       "│ Christopher Anthony ┆ Young      │\n",
       "│ Michael             ┆ Yowell     │\n",
       "│ Kevin               ┆ Zimmerman  │\n",
       "└─────────────────────┴────────────┘"
      ]
     },
     "execution_count": 4,
     "metadata": {},
     "output_type": "execute_result"
    }
   ],
   "source": [
    "# Exécution de la requête SQL et conversion en DF polars :\n",
    "# Liste par ordre croissant des condamnés\n",
    "conn.execute(\"\"\"\n",
    "SELECT FirstName, LastName FROM executions\n",
    "    ORDER BY LastName, FirstName;\n",
    "             \"\"\").pl()"
   ]
  },
  {
   "cell_type": "code",
   "execution_count": 5,
   "metadata": {},
   "outputs": [
    {
     "data": {
      "text/html": [
       "<div><style>\n",
       ".dataframe > thead > tr > th,\n",
       ".dataframe > tbody > tr > td {\n",
       "  text-align: right;\n",
       "}\n",
       "</style>\n",
       "<small>shape: (552, 3)</small><table border=\"1\" class=\"dataframe\"><thead><tr><th>FirstName</th><th>LastName</th><th>AgeatExecution</th></tr><tr><td>str</td><td>str</td><td>i64</td></tr></thead><tbody><tr><td>&quot;Lester&quot;</td><td>&quot;Bower&quot;</td><td>67</td></tr><tr><td>&quot;Danny Paul&quot;</td><td>&quot;Bible&quot;</td><td>66</td></tr><tr><td>&quot;William&quot;</td><td>&quot;Chappell&quot;</td><td>66</td></tr><tr><td>&quot;William Earl&quot;</td><td>&quot;Rayford&quot;</td><td>64</td></tr><tr><td>&quot;Hilton&quot;</td><td>&quot;Crawford&quot;</td><td>64</td></tr><tr><td>&quot;John David&quot;</td><td>&quot;Battaglia&quot;</td><td>62</td></tr><tr><td>&quot;Betty&quot;</td><td>&quot;Beets&quot;</td><td>62</td></tr><tr><td>&quot;Clydell&quot;</td><td>&quot;Coleman&quot;</td><td>62</td></tr><tr><td>&quot;James Eugene&quot;</td><td>&quot;Bigby&quot;</td><td>61</td></tr><tr><td>&quot;Richard&quot;</td><td>&quot;Duncan&quot;</td><td>61</td></tr><tr><td>&quot;Joseph&quot;</td><td>&quot;Faulder&quot;</td><td>61</td></tr><tr><td>&quot;Excell&quot;</td><td>&quot;White&quot;</td><td>61</td></tr><tr><td>&hellip;</td><td>&hellip;</td><td>&hellip;</td></tr><tr><td>&quot;Carlos&quot;</td><td>&quot;De Luna&quot;</td><td>27</td></tr><tr><td>&quot;Robert&quot;</td><td>&quot;Streetman&quot;</td><td>27</td></tr><tr><td>&quot;Anthony&quot;</td><td>&quot;Williams&quot;</td><td>27</td></tr><tr><td>&quot;Eliseo&quot;</td><td>&quot;Moreno&quot;</td><td>27</td></tr><tr><td>&quot;Aaron&quot;</td><td>&quot;Foust&quot;</td><td>26</td></tr><tr><td>&quot;Ruben&quot;</td><td>&quot;Cantu&quot;</td><td>26</td></tr><tr><td>&quot;T.J.&quot;</td><td>&quot;Jones&quot;</td><td>25</td></tr><tr><td>&quot;Napoleon&quot;</td><td>&quot;Beazley&quot;</td><td>25</td></tr><tr><td>&quot;Richard&quot;</td><td>&quot;Andrade&quot;</td><td>25</td></tr><tr><td>&quot;Toronto&quot;</td><td>&quot;Patterson&quot;</td><td>24</td></tr><tr><td>&quot;Jay&quot;</td><td>&quot;Pinkerton&quot;</td><td>24</td></tr><tr><td>&quot;Jesse&quot;</td><td>&quot;De La Rosa&quot;</td><td>24</td></tr></tbody></table></div>"
      ],
      "text/plain": [
       "shape: (552, 3)\n",
       "┌──────────────┬────────────┬────────────────┐\n",
       "│ FirstName    ┆ LastName   ┆ AgeatExecution │\n",
       "│ ---          ┆ ---        ┆ ---            │\n",
       "│ str          ┆ str        ┆ i64            │\n",
       "╞══════════════╪════════════╪════════════════╡\n",
       "│ Lester       ┆ Bower      ┆ 67             │\n",
       "│ Danny Paul   ┆ Bible      ┆ 66             │\n",
       "│ William      ┆ Chappell   ┆ 66             │\n",
       "│ William Earl ┆ Rayford    ┆ 64             │\n",
       "│ …            ┆ …          ┆ …              │\n",
       "│ Richard      ┆ Andrade    ┆ 25             │\n",
       "│ Toronto      ┆ Patterson  ┆ 24             │\n",
       "│ Jay          ┆ Pinkerton  ┆ 24             │\n",
       "│ Jesse        ┆ De La Rosa ┆ 24             │\n",
       "└──────────────┴────────────┴────────────────┘"
      ]
     },
     "execution_count": 5,
     "metadata": {},
     "output_type": "execute_result"
    }
   ],
   "source": [
    "# Exécution de la requête SQL convertie en DF Polars :\n",
    "# Affichage de certains champs de l'age des prisonniers lors de l'exécution par\n",
    "# trie décroissant\n",
    "conn.execute(\"\"\"\n",
    "SELECT FirstName, LastName, AgeatExecution FROM executions\n",
    "    ORDER BY AgeatExecution DESC;\n",
    "             \"\"\").pl()"
   ]
  },
  {
   "cell_type": "code",
   "execution_count": 7,
   "metadata": {},
   "outputs": [
    {
     "data": {
      "text/html": [
       "<div><style>\n",
       ".dataframe > thead > tr > th,\n",
       ".dataframe > tbody > tr > td {\n",
       "  text-align: right;\n",
       "}\n",
       "</style>\n",
       "<small>shape: (552, 3)</small><table border=\"1\" class=\"dataframe\"><thead><tr><th>County</th><th>LastName</th><th>FirstName</th></tr><tr><td>str</td><td>str</td><td>str</td></tr></thead><tbody><tr><td>&quot;Anderson&quot;</td><td>&quot;Simpson&quot;</td><td>&quot;Danielle&quot;</td></tr><tr><td>&quot;Anderson&quot;</td><td>&quot;Patterson&quot;</td><td>&quot;Kelsey&quot;</td></tr><tr><td>&quot;Anderson&quot;</td><td>&quot;Delk&quot;</td><td>&quot;Monty&quot;</td></tr><tr><td>&quot;Anderson&quot;</td><td>&quot;Cook&quot;</td><td>&quot;Bobby&quot;</td></tr><tr><td>&quot;Aransas&quot;</td><td>&quot;Johnson&quot;</td><td>&quot;Eddie&quot;</td></tr><tr><td>&quot;Atascosa&quot;</td><td>&quot;Bagwell&quot;</td><td>&quot;Dennis&quot;</td></tr><tr><td>&quot;Bailey&quot;</td><td>&quot;Reyes&quot;</td><td>&quot;Gilberto&quot;</td></tr><tr><td>&quot;Bastrop&quot;</td><td>&quot;Carter&quot;</td><td>&quot;Robert&quot;</td></tr><tr><td>&quot;Bee&quot;</td><td>&quot;Pruett&quot;</td><td>&quot;Robert Lynn&quot;</td></tr><tr><td>&quot;Bee&quot;</td><td>&quot;Cannady&quot;</td><td>&quot;Rogelio&quot;</td></tr><tr><td>&quot;Bell&quot;</td><td>&quot;Manns&quot;</td><td>&quot;Denard&quot;</td></tr><tr><td>&quot;Bell&quot;</td><td>&quot;Black, Sr.&quot;</td><td>&quot;Christopher&quot;</td></tr><tr><td>&hellip;</td><td>&hellip;</td><td>&hellip;</td></tr><tr><td>&quot;Walker&quot;</td><td>&quot;Washington&quot;</td><td>&quot;Terry&quot;</td></tr><tr><td>&quot;Walker&quot;</td><td>&quot;Johnson&quot;</td><td>&quot;Gary&quot;</td></tr><tr><td>&quot;Walker&quot;</td><td>&quot;Jacobs&quot;</td><td>&quot;Jesse&quot;</td></tr><tr><td>&quot;Wharton&quot;</td><td>&quot;Freeman&quot;</td><td>&quot;James&quot;</td></tr><tr><td>&quot;Wichita&quot;</td><td>&quot;Dillingham&quot;</td><td>&quot;Jeffery&quot;</td></tr><tr><td>&quot;Wichita&quot;</td><td>&quot;Collier&quot;</td><td>&quot;James&quot;</td></tr><tr><td>&quot;Wilbarger&quot;</td><td>&quot;Vaughn&quot;</td><td>&quot;Roger&quot;</td></tr><tr><td>&quot;Wilbarger&quot;</td><td>&quot;Mays&quot;</td><td>&quot;Noble&quot;</td></tr><tr><td>&quot;Williamson&quot;</td><td>&quot;Muniz&quot;</td><td>&quot;Pedro&quot;</td></tr><tr><td>&quot;Williamson&quot;</td><td>&quot;Jackson&quot;</td><td>&quot;Tommy&quot;</td></tr><tr><td>&quot;Williamson&quot;</td><td>&quot;Granados&quot;</td><td>&quot;Carlos&quot;</td></tr><tr><td>&quot;Wood&quot;</td><td>&quot;Riley&quot;</td><td>&quot;Michael&quot;</td></tr></tbody></table></div>"
      ],
      "text/plain": [
       "shape: (552, 3)\n",
       "┌────────────┬───────────┬───────────┐\n",
       "│ County     ┆ LastName  ┆ FirstName │\n",
       "│ ---        ┆ ---       ┆ ---       │\n",
       "│ str        ┆ str       ┆ str       │\n",
       "╞════════════╪═══════════╪═══════════╡\n",
       "│ Anderson   ┆ Simpson   ┆ Danielle  │\n",
       "│ Anderson   ┆ Patterson ┆ Kelsey    │\n",
       "│ Anderson   ┆ Delk      ┆ Monty     │\n",
       "│ Anderson   ┆ Cook      ┆ Bobby     │\n",
       "│ …          ┆ …         ┆ …         │\n",
       "│ Williamson ┆ Muniz     ┆ Pedro     │\n",
       "│ Williamson ┆ Jackson   ┆ Tommy     │\n",
       "│ Williamson ┆ Granados  ┆ Carlos    │\n",
       "│ Wood       ┆ Riley     ┆ Michael   │\n",
       "└────────────┴───────────┴───────────┘"
      ]
     },
     "execution_count": 7,
     "metadata": {},
     "output_type": "execute_result"
    }
   ],
   "source": [
    "# Exécution de la requête SQL convertie en DF Polars :\n",
    "# Multi trie : trie des États par ordre croissant \n",
    "# et des noms par ordre décroissant\n",
    "conn.execute(\"\"\"\n",
    "SELECT County, LastName, FirstName FROM executions\n",
    "    ORDER BY County, LastName DESC             \n",
    "             \"\"\").pl()"
   ]
  }
 ],
 "metadata": {
  "kernelspec": {
   "display_name": "Python 3",
   "language": "python",
   "name": "python3"
  },
  "language_info": {
   "codemirror_mode": {
    "name": "ipython",
    "version": 3
   },
   "file_extension": ".py",
   "mimetype": "text/x-python",
   "name": "python",
   "nbconvert_exporter": "python",
   "pygments_lexer": "ipython3",
   "version": "3.9.2"
  }
 },
 "nbformat": 4,
 "nbformat_minor": 2
}
