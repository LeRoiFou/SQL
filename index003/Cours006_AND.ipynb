{
 "cells": [
  {
   "cell_type": "code",
   "execution_count": 1,
   "metadata": {},
   "outputs": [],
   "source": [
    "import duckdb"
   ]
  },
  {
   "cell_type": "code",
   "execution_count": 2,
   "metadata": {},
   "outputs": [],
   "source": [
    "# Connection à la base de données\n",
    "conn = duckdb.connect('data.db')"
   ]
  },
  {
   "cell_type": "code",
   "execution_count": 8,
   "metadata": {},
   "outputs": [
    {
     "data": {
      "text/html": [
       "<div><style>\n",
       ".dataframe > thead > tr > th,\n",
       ".dataframe > tbody > tr > td {\n",
       "  text-align: right;\n",
       "}\n",
       "</style>\n",
       "<small>shape: (6, 2)</small><table border=\"1\" class=\"dataframe\"><thead><tr><th>LastName</th><th>County</th></tr><tr><td>str</td><td>str</td></tr></thead><tbody><tr><td>&quot;Chamberlain&quot;</td><td>&quot;Dallas&quot;</td></tr><tr><td>&quot;Chavez&quot;</td><td>&quot;Dallas&quot;</td></tr><tr><td>&quot;Cooks&quot;</td><td>&quot;Dallas&quot;</td></tr><tr><td>&quot;Caldwell&quot;</td><td>&quot;Dallas&quot;</td></tr><tr><td>&quot;Cantu, Jr.&quot;</td><td>&quot;Dallas&quot;</td></tr><tr><td>&quot;Camacho, Jr.&quot;</td><td>&quot;Dallas&quot;</td></tr></tbody></table></div>"
      ],
      "text/plain": [
       "shape: (6, 2)\n",
       "┌──────────────┬────────┐\n",
       "│ LastName     ┆ County │\n",
       "│ ---          ┆ ---    │\n",
       "│ str          ┆ str    │\n",
       "╞══════════════╪════════╡\n",
       "│ Chamberlain  ┆ Dallas │\n",
       "│ Chavez       ┆ Dallas │\n",
       "│ Cooks        ┆ Dallas │\n",
       "│ Caldwell     ┆ Dallas │\n",
       "│ Cantu, Jr.   ┆ Dallas │\n",
       "│ Camacho, Jr. ┆ Dallas │\n",
       "└──────────────┴────────┘"
      ]
     },
     "execution_count": 8,
     "metadata": {},
     "output_type": "execute_result"
    }
   ],
   "source": [
    "# Exécution de la requête SQL convertie en DF polars :\n",
    "# Filtrer par nom commençant par 'C' ET County = 'Dallas'\n",
    "conn.execute(\"\"\"\n",
    "SELECT LastName, County FROM executions\n",
    "    WHERE LastName LIKE 'C%' AND County = 'Dallas';\n",
    "             \"\"\").pl()"
   ]
  },
  {
   "cell_type": "code",
   "execution_count": 11,
   "metadata": {},
   "outputs": [
    {
     "data": {
      "text/html": [
       "<div><style>\n",
       ".dataframe > thead > tr > th,\n",
       ".dataframe > tbody > tr > td {\n",
       "  text-align: right;\n",
       "}\n",
       "</style>\n",
       "<small>shape: (2, 4)</small><table border=\"1\" class=\"dataframe\"><thead><tr><th>LastName</th><th>FirstName</th><th>AgeatExecution</th><th>Race</th></tr><tr><td>str</td><td>str</td><td>i64</td><td>str</td></tr></thead><tbody><tr><td>&quot;Patterson&quot;</td><td>&quot;Toronto&quot;</td><td>24</td><td>&quot;Black&quot;</td></tr><tr><td>&quot;De La Rosa&quot;</td><td>&quot;Jesse&quot;</td><td>24</td><td>&quot;Hispanic&quot;</td></tr></tbody></table></div>"
      ],
      "text/plain": [
       "shape: (2, 4)\n",
       "┌────────────┬───────────┬────────────────┬──────────┐\n",
       "│ LastName   ┆ FirstName ┆ AgeatExecution ┆ Race     │\n",
       "│ ---        ┆ ---       ┆ ---            ┆ ---      │\n",
       "│ str        ┆ str       ┆ i64            ┆ str      │\n",
       "╞════════════╪═══════════╪════════════════╪══════════╡\n",
       "│ Patterson  ┆ Toronto   ┆ 24             ┆ Black    │\n",
       "│ De La Rosa ┆ Jesse     ┆ 24             ┆ Hispanic │\n",
       "└────────────┴───────────┴────────────────┴──────────┘"
      ]
     },
     "execution_count": 11,
     "metadata": {},
     "output_type": "execute_result"
    }
   ],
   "source": [
    "# Exécution de la requête SQL et convertie en DF polars\n",
    "# Filtrer les prisonniers âgés de moins de 25 ans lors de leurs exécutions\n",
    "# et que leurs races commencent par B ou par H\n",
    "\n",
    "conn.execute(\"\"\"\n",
    "SELECT LastName, FirstName, AgeatExecution, Race FROM executions       \n",
    "    WHERE AgeatExecution < 25 AND\n",
    "    (Race LIKE 'B%' OR Race LIKE 'H%');\n",
    "             \"\"\").pl()"
   ]
  }
 ],
 "metadata": {
  "kernelspec": {
   "display_name": "Python 3",
   "language": "python",
   "name": "python3"
  },
  "language_info": {
   "codemirror_mode": {
    "name": "ipython",
    "version": 3
   },
   "file_extension": ".py",
   "mimetype": "text/x-python",
   "name": "python",
   "nbconvert_exporter": "python",
   "pygments_lexer": "ipython3",
   "version": "3.9.2"
  }
 },
 "nbformat": 4,
 "nbformat_minor": 2
}
